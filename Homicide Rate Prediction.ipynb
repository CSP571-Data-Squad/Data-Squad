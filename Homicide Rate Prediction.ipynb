{
 "cells": [
  {
   "cell_type": "markdown",
   "metadata": {},
   "source": [
    "# Homicide Rate Prediction\n",
    "Data Squad"
   ]
  },
  {
   "cell_type": "code",
   "execution_count": 1,
   "metadata": {},
   "outputs": [],
   "source": [
    "import pandas as pd\n",
    "import numpy as np\n",
    "import seaborn as sns\n",
    "import matplotlib.pyplot as plt\n",
    "\n",
    "from sklearn.discriminant_analysis import LinearDiscriminantAnalysis\n",
    "from sklearn.model_selection import KFold\n",
    "from sklearn.model_selection import cross_val_score\n",
    "from sklearn.preprocessing import Imputer\n",
    "from sklearn import preprocessing"
   ]
  },
  {
   "cell_type": "markdown",
   "metadata": {},
   "source": [
    "## Load dataset"
   ]
  },
  {
   "cell_type": "code",
   "execution_count": 2,
   "metadata": {},
   "outputs": [
    {
     "data": {
      "text/html": [
       "<div>\n",
       "<style scoped>\n",
       "    .dataframe tbody tr th:only-of-type {\n",
       "        vertical-align: middle;\n",
       "    }\n",
       "\n",
       "    .dataframe tbody tr th {\n",
       "        vertical-align: top;\n",
       "    }\n",
       "\n",
       "    .dataframe thead th {\n",
       "        text-align: right;\n",
       "    }\n",
       "</style>\n",
       "<table border=\"1\" class=\"dataframe\">\n",
       "  <thead>\n",
       "    <tr style=\"text-align: right;\">\n",
       "      <th></th>\n",
       "      <th>Entity</th>\n",
       "      <th>Code</th>\n",
       "      <th>Year</th>\n",
       "      <th>Cost of closing the poverty gap in int-$ 2011 (PovcalNet (World Bank) (2017)) ($)</th>\n",
       "      <th>Public health expenditure share GDP OWID(%)</th>\n",
       "      <th>Deaths - Protein-energy malnutrition - Sex: Both - Age: Age-standardized (Rate) (deaths per 100,000 individuals)</th>\n",
       "      <th>Infant mortality rate (%)</th>\n",
       "      <th>GDP per capita (int.-$) (constant 2011 international $)</th>\n",
       "      <th>annual health care per capita(constant 2011 international $)</th>\n",
       "      <th>Deaths - Interpersonal violence - Sex: Both - Age: All Ages (Rate) (homicides per 100,000)</th>\n",
       "    </tr>\n",
       "  </thead>\n",
       "  <tbody>\n",
       "    <tr>\n",
       "      <td>0</td>\n",
       "      <td>Afghanistan</td>\n",
       "      <td>AFG</td>\n",
       "      <td>2012.0</td>\n",
       "      <td>NaN</td>\n",
       "      <td>2.920566</td>\n",
       "      <td>3.390730</td>\n",
       "      <td>6.09</td>\n",
       "      <td>1839.273579</td>\n",
       "      <td>160.368027</td>\n",
       "      <td>11.445933</td>\n",
       "    </tr>\n",
       "    <tr>\n",
       "      <td>1</td>\n",
       "      <td>Albania</td>\n",
       "      <td>ALB</td>\n",
       "      <td>2012.0</td>\n",
       "      <td>4424530.0</td>\n",
       "      <td>2.735704</td>\n",
       "      <td>0.167334</td>\n",
       "      <td>0.95</td>\n",
       "      <td>10369.823380</td>\n",
       "      <td>544.006172</td>\n",
       "      <td>2.481095</td>\n",
       "    </tr>\n",
       "    <tr>\n",
       "      <td>2</td>\n",
       "      <td>Algeria</td>\n",
       "      <td>DZA</td>\n",
       "      <td>2012.0</td>\n",
       "      <td>NaN</td>\n",
       "      <td>4.520251</td>\n",
       "      <td>0.298914</td>\n",
       "      <td>2.24</td>\n",
       "      <td>13161.961670</td>\n",
       "      <td>821.338885</td>\n",
       "      <td>1.229986</td>\n",
       "    </tr>\n",
       "    <tr>\n",
       "      <td>3</td>\n",
       "      <td>American Samoa</td>\n",
       "      <td>ASM</td>\n",
       "      <td>2012.0</td>\n",
       "      <td>NaN</td>\n",
       "      <td>NaN</td>\n",
       "      <td>5.616784</td>\n",
       "      <td>NaN</td>\n",
       "      <td>NaN</td>\n",
       "      <td>NaN</td>\n",
       "      <td>5.083770</td>\n",
       "    </tr>\n",
       "    <tr>\n",
       "      <td>4</td>\n",
       "      <td>Andean Latin America</td>\n",
       "      <td>NaN</td>\n",
       "      <td>2012.0</td>\n",
       "      <td>NaN</td>\n",
       "      <td>NaN</td>\n",
       "      <td>3.822898</td>\n",
       "      <td>NaN</td>\n",
       "      <td>NaN</td>\n",
       "      <td>NaN</td>\n",
       "      <td>8.303727</td>\n",
       "    </tr>\n",
       "  </tbody>\n",
       "</table>\n",
       "</div>"
      ],
      "text/plain": [
       "                 Entity Code    Year  \\\n",
       "0           Afghanistan  AFG  2012.0   \n",
       "1               Albania  ALB  2012.0   \n",
       "2               Algeria  DZA  2012.0   \n",
       "3        American Samoa  ASM  2012.0   \n",
       "4  Andean Latin America  NaN  2012.0   \n",
       "\n",
       "   Cost of closing the poverty gap in int-$ 2011 (PovcalNet (World Bank) (2017)) ($)  \\\n",
       "0                                                NaN                                   \n",
       "1                                          4424530.0                                   \n",
       "2                                                NaN                                   \n",
       "3                                                NaN                                   \n",
       "4                                                NaN                                   \n",
       "\n",
       "   Public health expenditure share GDP OWID(%)  \\\n",
       "0                                     2.920566   \n",
       "1                                     2.735704   \n",
       "2                                     4.520251   \n",
       "3                                          NaN   \n",
       "4                                          NaN   \n",
       "\n",
       "   Deaths - Protein-energy malnutrition - Sex: Both - Age: Age-standardized (Rate) (deaths per 100,000 individuals)  \\\n",
       "0                                           3.390730                                                                  \n",
       "1                                           0.167334                                                                  \n",
       "2                                           0.298914                                                                  \n",
       "3                                           5.616784                                                                  \n",
       "4                                           3.822898                                                                  \n",
       "\n",
       "   Infant mortality rate (%)  \\\n",
       "0                       6.09   \n",
       "1                       0.95   \n",
       "2                       2.24   \n",
       "3                        NaN   \n",
       "4                        NaN   \n",
       "\n",
       "   GDP per capita (int.-$) (constant 2011 international $)  \\\n",
       "0                                        1839.273579         \n",
       "1                                       10369.823380         \n",
       "2                                       13161.961670         \n",
       "3                                                NaN         \n",
       "4                                                NaN         \n",
       "\n",
       "    annual health care per capita(constant 2011 international $)  \\\n",
       "0                                         160.368027               \n",
       "1                                         544.006172               \n",
       "2                                         821.338885               \n",
       "3                                                NaN               \n",
       "4                                                NaN               \n",
       "\n",
       "   Deaths - Interpersonal violence - Sex: Both - Age: All Ages (Rate) (homicides per 100,000)  \n",
       "0                                          11.445933                                           \n",
       "1                                           2.481095                                           \n",
       "2                                           1.229986                                           \n",
       "3                                           5.083770                                           \n",
       "4                                           8.303727                                           "
      ]
     },
     "execution_count": 2,
     "metadata": {},
     "output_type": "execute_result"
    }
   ],
   "source": [
    "primary = pd.read_csv('FinalDataset.csv')\n",
    "primary.head()"
   ]
  },
  {
   "cell_type": "code",
   "execution_count": 3,
   "metadata": {},
   "outputs": [],
   "source": [
    "# women = pd.read_csv('wbl1971_2020.csv')\n",
    "# women.columns = women.iloc[0]\n",
    "# women = women.drop([0])\n",
    "# women.head()"
   ]
  },
  {
   "cell_type": "markdown",
   "metadata": {},
   "source": [
    "## Data cleaning"
   ]
  },
  {
   "cell_type": "code",
   "execution_count": 4,
   "metadata": {},
   "outputs": [
    {
     "data": {
      "text/html": [
       "<div>\n",
       "<style scoped>\n",
       "    .dataframe tbody tr th:only-of-type {\n",
       "        vertical-align: middle;\n",
       "    }\n",
       "\n",
       "    .dataframe tbody tr th {\n",
       "        vertical-align: top;\n",
       "    }\n",
       "\n",
       "    .dataframe thead th {\n",
       "        text-align: right;\n",
       "    }\n",
       "</style>\n",
       "<table border=\"1\" class=\"dataframe\">\n",
       "  <thead>\n",
       "    <tr style=\"text-align: right;\">\n",
       "      <th></th>\n",
       "      <th>Country</th>\n",
       "      <th>Code</th>\n",
       "      <th>Year</th>\n",
       "      <th>PovertyGap</th>\n",
       "      <th>PercentHealthExpenditure</th>\n",
       "      <th>MalnutritionDeaths</th>\n",
       "      <th>InfantMortalityRate</th>\n",
       "      <th>GDPPerCapita</th>\n",
       "      <th>HealthCarePerCapita</th>\n",
       "      <th>HomicideRate</th>\n",
       "    </tr>\n",
       "  </thead>\n",
       "  <tbody>\n",
       "    <tr>\n",
       "      <td>0</td>\n",
       "      <td>Afghanistan</td>\n",
       "      <td>AFG</td>\n",
       "      <td>2012.0</td>\n",
       "      <td>NaN</td>\n",
       "      <td>2.920566</td>\n",
       "      <td>3.390730</td>\n",
       "      <td>6.09</td>\n",
       "      <td>1839.273579</td>\n",
       "      <td>160.368027</td>\n",
       "      <td>11.445933</td>\n",
       "    </tr>\n",
       "    <tr>\n",
       "      <td>1</td>\n",
       "      <td>Albania</td>\n",
       "      <td>ALB</td>\n",
       "      <td>2012.0</td>\n",
       "      <td>4.424530e+06</td>\n",
       "      <td>2.735704</td>\n",
       "      <td>0.167334</td>\n",
       "      <td>0.95</td>\n",
       "      <td>10369.823380</td>\n",
       "      <td>544.006172</td>\n",
       "      <td>2.481095</td>\n",
       "    </tr>\n",
       "    <tr>\n",
       "      <td>2</td>\n",
       "      <td>Algeria</td>\n",
       "      <td>DZA</td>\n",
       "      <td>2012.0</td>\n",
       "      <td>NaN</td>\n",
       "      <td>4.520251</td>\n",
       "      <td>0.298914</td>\n",
       "      <td>2.24</td>\n",
       "      <td>13161.961670</td>\n",
       "      <td>821.338885</td>\n",
       "      <td>1.229986</td>\n",
       "    </tr>\n",
       "    <tr>\n",
       "      <td>3</td>\n",
       "      <td>American Samoa</td>\n",
       "      <td>ASM</td>\n",
       "      <td>2012.0</td>\n",
       "      <td>NaN</td>\n",
       "      <td>NaN</td>\n",
       "      <td>5.616784</td>\n",
       "      <td>NaN</td>\n",
       "      <td>NaN</td>\n",
       "      <td>NaN</td>\n",
       "      <td>5.083770</td>\n",
       "    </tr>\n",
       "    <tr>\n",
       "      <td>4</td>\n",
       "      <td>Andean Latin America</td>\n",
       "      <td>NaN</td>\n",
       "      <td>2012.0</td>\n",
       "      <td>NaN</td>\n",
       "      <td>NaN</td>\n",
       "      <td>3.822898</td>\n",
       "      <td>NaN</td>\n",
       "      <td>NaN</td>\n",
       "      <td>NaN</td>\n",
       "      <td>8.303727</td>\n",
       "    </tr>\n",
       "    <tr>\n",
       "      <td>...</td>\n",
       "      <td>...</td>\n",
       "      <td>...</td>\n",
       "      <td>...</td>\n",
       "      <td>...</td>\n",
       "      <td>...</td>\n",
       "      <td>...</td>\n",
       "      <td>...</td>\n",
       "      <td>...</td>\n",
       "      <td>...</td>\n",
       "      <td>...</td>\n",
       "    </tr>\n",
       "    <tr>\n",
       "      <td>276</td>\n",
       "      <td>Western Sub-Saharan Africa</td>\n",
       "      <td>NaN</td>\n",
       "      <td>2012.0</td>\n",
       "      <td>NaN</td>\n",
       "      <td>NaN</td>\n",
       "      <td>13.773019</td>\n",
       "      <td>NaN</td>\n",
       "      <td>NaN</td>\n",
       "      <td>NaN</td>\n",
       "      <td>4.648307</td>\n",
       "    </tr>\n",
       "    <tr>\n",
       "      <td>277</td>\n",
       "      <td>World</td>\n",
       "      <td>OWID_WRL</td>\n",
       "      <td>2012.0</td>\n",
       "      <td>1.805140e+11</td>\n",
       "      <td>NaN</td>\n",
       "      <td>4.110111</td>\n",
       "      <td>3.45</td>\n",
       "      <td>13838.011980</td>\n",
       "      <td>1179.840791</td>\n",
       "      <td>5.658716</td>\n",
       "    </tr>\n",
       "    <tr>\n",
       "      <td>278</td>\n",
       "      <td>Yemen</td>\n",
       "      <td>YEM</td>\n",
       "      <td>2012.0</td>\n",
       "      <td>NaN</td>\n",
       "      <td>1.571628</td>\n",
       "      <td>2.472157</td>\n",
       "      <td>4.32</td>\n",
       "      <td>3793.412118</td>\n",
       "      <td>210.641309</td>\n",
       "      <td>3.060375</td>\n",
       "    </tr>\n",
       "    <tr>\n",
       "      <td>279</td>\n",
       "      <td>Zambia</td>\n",
       "      <td>ZMB</td>\n",
       "      <td>2012.0</td>\n",
       "      <td>3.019621e+09</td>\n",
       "      <td>2.536370</td>\n",
       "      <td>21.404929</td>\n",
       "      <td>4.96</td>\n",
       "      <td>3509.413319</td>\n",
       "      <td>175.092575</td>\n",
       "      <td>6.202861</td>\n",
       "    </tr>\n",
       "    <tr>\n",
       "      <td>280</td>\n",
       "      <td>Zimbabwe</td>\n",
       "      <td>ZWE</td>\n",
       "      <td>2012.0</td>\n",
       "      <td>4.274117e+08</td>\n",
       "      <td>2.789445</td>\n",
       "      <td>31.168496</td>\n",
       "      <td>4.84</td>\n",
       "      <td>1871.366340</td>\n",
       "      <td>112.217797</td>\n",
       "      <td>8.984187</td>\n",
       "    </tr>\n",
       "  </tbody>\n",
       "</table>\n",
       "<p>281 rows × 10 columns</p>\n",
       "</div>"
      ],
      "text/plain": [
       "                        Country      Code    Year    PovertyGap  \\\n",
       "0                   Afghanistan       AFG  2012.0           NaN   \n",
       "1                       Albania       ALB  2012.0  4.424530e+06   \n",
       "2                       Algeria       DZA  2012.0           NaN   \n",
       "3                American Samoa       ASM  2012.0           NaN   \n",
       "4          Andean Latin America       NaN  2012.0           NaN   \n",
       "..                          ...       ...     ...           ...   \n",
       "276  Western Sub-Saharan Africa       NaN  2012.0           NaN   \n",
       "277                       World  OWID_WRL  2012.0  1.805140e+11   \n",
       "278                       Yemen       YEM  2012.0           NaN   \n",
       "279                      Zambia       ZMB  2012.0  3.019621e+09   \n",
       "280                    Zimbabwe       ZWE  2012.0  4.274117e+08   \n",
       "\n",
       "     PercentHealthExpenditure  MalnutritionDeaths  InfantMortalityRate  \\\n",
       "0                    2.920566            3.390730                 6.09   \n",
       "1                    2.735704            0.167334                 0.95   \n",
       "2                    4.520251            0.298914                 2.24   \n",
       "3                         NaN            5.616784                  NaN   \n",
       "4                         NaN            3.822898                  NaN   \n",
       "..                        ...                 ...                  ...   \n",
       "276                       NaN           13.773019                  NaN   \n",
       "277                       NaN            4.110111                 3.45   \n",
       "278                  1.571628            2.472157                 4.32   \n",
       "279                  2.536370           21.404929                 4.96   \n",
       "280                  2.789445           31.168496                 4.84   \n",
       "\n",
       "     GDPPerCapita  HealthCarePerCapita  HomicideRate  \n",
       "0     1839.273579           160.368027     11.445933  \n",
       "1    10369.823380           544.006172      2.481095  \n",
       "2    13161.961670           821.338885      1.229986  \n",
       "3             NaN                  NaN      5.083770  \n",
       "4             NaN                  NaN      8.303727  \n",
       "..            ...                  ...           ...  \n",
       "276           NaN                  NaN      4.648307  \n",
       "277  13838.011980          1179.840791      5.658716  \n",
       "278   3793.412118           210.641309      3.060375  \n",
       "279   3509.413319           175.092575      6.202861  \n",
       "280   1871.366340           112.217797      8.984187  \n",
       "\n",
       "[281 rows x 10 columns]"
      ]
     },
     "execution_count": 4,
     "metadata": {},
     "output_type": "execute_result"
    }
   ],
   "source": [
    "primary.columns = ['Country', 'Code', 'Year', 'PovertyGap', 'PercentHealthExpenditure', \n",
    "                  'MalnutritionDeaths', 'InfantMortalityRate', 'GDPPerCapita', \n",
    "                  'HealthCarePerCapita', 'HomicideRate']\n",
    "primary"
   ]
  },
  {
   "cell_type": "code",
   "execution_count": 5,
   "metadata": {},
   "outputs": [
    {
     "data": {
      "text/html": [
       "<div>\n",
       "<style scoped>\n",
       "    .dataframe tbody tr th:only-of-type {\n",
       "        vertical-align: middle;\n",
       "    }\n",
       "\n",
       "    .dataframe tbody tr th {\n",
       "        vertical-align: top;\n",
       "    }\n",
       "\n",
       "    .dataframe thead th {\n",
       "        text-align: right;\n",
       "    }\n",
       "</style>\n",
       "<table border=\"1\" class=\"dataframe\">\n",
       "  <thead>\n",
       "    <tr style=\"text-align: right;\">\n",
       "      <th></th>\n",
       "      <th>Year</th>\n",
       "      <th>PovertyGap</th>\n",
       "      <th>PercentHealthExpenditure</th>\n",
       "      <th>MalnutritionDeaths</th>\n",
       "      <th>InfantMortalityRate</th>\n",
       "      <th>GDPPerCapita</th>\n",
       "      <th>HealthCarePerCapita</th>\n",
       "      <th>HomicideRate</th>\n",
       "    </tr>\n",
       "  </thead>\n",
       "  <tbody>\n",
       "    <tr>\n",
       "      <td>count</td>\n",
       "      <td>280.0</td>\n",
       "      <td>1.320000e+02</td>\n",
       "      <td>192.000000</td>\n",
       "      <td>231.000000</td>\n",
       "      <td>239.000000</td>\n",
       "      <td>236.000000</td>\n",
       "      <td>236.000000</td>\n",
       "      <td>231.000000</td>\n",
       "    </tr>\n",
       "    <tr>\n",
       "      <td>mean</td>\n",
       "      <td>2012.0</td>\n",
       "      <td>2.700805e+09</td>\n",
       "      <td>4.061001</td>\n",
       "      <td>5.388130</td>\n",
       "      <td>2.664959</td>\n",
       "      <td>17317.884932</td>\n",
       "      <td>1216.142527</td>\n",
       "      <td>7.963268</td>\n",
       "    </tr>\n",
       "    <tr>\n",
       "      <td>std</td>\n",
       "      <td>0.0</td>\n",
       "      <td>1.615221e+10</td>\n",
       "      <td>2.432823</td>\n",
       "      <td>8.646644</td>\n",
       "      <td>2.250760</td>\n",
       "      <td>19326.730018</td>\n",
       "      <td>1540.664262</td>\n",
       "      <td>12.483881</td>\n",
       "    </tr>\n",
       "    <tr>\n",
       "      <td>min</td>\n",
       "      <td>2012.0</td>\n",
       "      <td>0.000000e+00</td>\n",
       "      <td>0.792246</td>\n",
       "      <td>0.010208</td>\n",
       "      <td>0.190000</td>\n",
       "      <td>706.797964</td>\n",
       "      <td>24.552872</td>\n",
       "      <td>0.504217</td>\n",
       "    </tr>\n",
       "    <tr>\n",
       "      <td>25%</td>\n",
       "      <td>2012.0</td>\n",
       "      <td>6.198330e+06</td>\n",
       "      <td>2.211426</td>\n",
       "      <td>0.195950</td>\n",
       "      <td>0.820000</td>\n",
       "      <td>4126.883699</td>\n",
       "      <td>191.687787</td>\n",
       "      <td>1.714383</td>\n",
       "    </tr>\n",
       "    <tr>\n",
       "      <td>50%</td>\n",
       "      <td>2012.0</td>\n",
       "      <td>5.460272e+07</td>\n",
       "      <td>3.398974</td>\n",
       "      <td>1.612919</td>\n",
       "      <td>1.790000</td>\n",
       "      <td>10996.211780</td>\n",
       "      <td>684.437490</td>\n",
       "      <td>4.072165</td>\n",
       "    </tr>\n",
       "    <tr>\n",
       "      <td>75%</td>\n",
       "      <td>2012.0</td>\n",
       "      <td>1.168079e+09</td>\n",
       "      <td>5.335460</td>\n",
       "      <td>6.863823</td>\n",
       "      <td>4.215000</td>\n",
       "      <td>22730.831110</td>\n",
       "      <td>1420.090005</td>\n",
       "      <td>8.157472</td>\n",
       "    </tr>\n",
       "    <tr>\n",
       "      <td>max</td>\n",
       "      <td>2012.0</td>\n",
       "      <td>1.805140e+11</td>\n",
       "      <td>13.906522</td>\n",
       "      <td>66.011036</td>\n",
       "      <td>9.980000</td>\n",
       "      <td>125302.080000</td>\n",
       "      <td>8789.767513</td>\n",
       "      <td>102.742835</td>\n",
       "    </tr>\n",
       "  </tbody>\n",
       "</table>\n",
       "</div>"
      ],
      "text/plain": [
       "         Year    PovertyGap  PercentHealthExpenditure  MalnutritionDeaths  \\\n",
       "count   280.0  1.320000e+02                192.000000          231.000000   \n",
       "mean   2012.0  2.700805e+09                  4.061001            5.388130   \n",
       "std       0.0  1.615221e+10                  2.432823            8.646644   \n",
       "min    2012.0  0.000000e+00                  0.792246            0.010208   \n",
       "25%    2012.0  6.198330e+06                  2.211426            0.195950   \n",
       "50%    2012.0  5.460272e+07                  3.398974            1.612919   \n",
       "75%    2012.0  1.168079e+09                  5.335460            6.863823   \n",
       "max    2012.0  1.805140e+11                 13.906522           66.011036   \n",
       "\n",
       "       InfantMortalityRate   GDPPerCapita  HealthCarePerCapita  HomicideRate  \n",
       "count           239.000000     236.000000           236.000000    231.000000  \n",
       "mean              2.664959   17317.884932          1216.142527      7.963268  \n",
       "std               2.250760   19326.730018          1540.664262     12.483881  \n",
       "min               0.190000     706.797964            24.552872      0.504217  \n",
       "25%               0.820000    4126.883699           191.687787      1.714383  \n",
       "50%               1.790000   10996.211780           684.437490      4.072165  \n",
       "75%               4.215000   22730.831110          1420.090005      8.157472  \n",
       "max               9.980000  125302.080000          8789.767513    102.742835  "
      ]
     },
     "execution_count": 5,
     "metadata": {},
     "output_type": "execute_result"
    }
   ],
   "source": [
    "primary.describe()"
   ]
  },
  {
   "cell_type": "code",
   "execution_count": 6,
   "metadata": {},
   "outputs": [
    {
     "data": {
      "text/plain": [
       "Country                      0\n",
       "Code                         0\n",
       "Year                         0\n",
       "PovertyGap                  75\n",
       "PercentHealthExpenditure    14\n",
       "MalnutritionDeaths          10\n",
       "InfantMortalityRate         13\n",
       "GDPPerCapita                16\n",
       "HealthCarePerCapita         15\n",
       "HomicideRate                10\n",
       "dtype: int64"
      ]
     },
     "execution_count": 6,
     "metadata": {},
     "output_type": "execute_result"
    }
   ],
   "source": [
    "primary = primary[ primary['Code'].str.len() == 3 ]\n",
    "primary.isna().sum()"
   ]
  },
  {
   "cell_type": "code",
   "execution_count": 7,
   "metadata": {},
   "outputs": [
    {
     "name": "stderr",
     "output_type": "stream",
     "text": [
      "/Users/jasonyeoh/opt/anaconda3/lib/python3.7/site-packages/pandas/core/generic.py:6287: SettingWithCopyWarning: \n",
      "A value is trying to be set on a copy of a slice from a DataFrame\n",
      "\n",
      "See the caveats in the documentation: http://pandas.pydata.org/pandas-docs/stable/user_guide/indexing.html#returning-a-view-versus-a-copy\n",
      "  self._update_inplace(new_data)\n"
     ]
    },
    {
     "data": {
      "text/plain": [
       "Country                     0\n",
       "Code                        0\n",
       "Year                        0\n",
       "PovertyGap                  0\n",
       "PercentHealthExpenditure    0\n",
       "MalnutritionDeaths          0\n",
       "InfantMortalityRate         0\n",
       "GDPPerCapita                0\n",
       "HealthCarePerCapita         0\n",
       "HomicideRate                0\n",
       "dtype: int64"
      ]
     },
     "execution_count": 7,
     "metadata": {},
     "output_type": "execute_result"
    }
   ],
   "source": [
    "# Imputing missing values\n",
    "\n",
    "primary['PovertyGap'].fillna(primary['PovertyGap'].median(), inplace=True)\n",
    "primary['PercentHealthExpenditure'].fillna(primary['PercentHealthExpenditure'].median(), inplace=True)\n",
    "primary['MalnutritionDeaths'].fillna(primary['MalnutritionDeaths'].median(), inplace=True)\n",
    "primary['InfantMortalityRate'].fillna(primary['InfantMortalityRate'].median(), inplace=True)\n",
    "primary['GDPPerCapita'].fillna(primary['GDPPerCapita'].median(), inplace=True)\n",
    "primary['HealthCarePerCapita'].fillna(primary['HealthCarePerCapita'].median(), inplace=True)\n",
    "primary['HomicideRate'].fillna(primary['HomicideRate'].median(), inplace=True)\n",
    "primary.isnull().sum()"
   ]
  },
  {
   "cell_type": "code",
   "execution_count": 9,
   "metadata": {},
   "outputs": [
    {
     "name": "stderr",
     "output_type": "stream",
     "text": [
      "/Users/jasonyeoh/opt/anaconda3/lib/python3.7/site-packages/ipykernel_launcher.py:2: SettingWithCopyWarning: \n",
      "A value is trying to be set on a copy of a slice from a DataFrame.\n",
      "Try using .loc[row_indexer,col_indexer] = value instead\n",
      "\n",
      "See the caveats in the documentation: http://pandas.pydata.org/pandas-docs/stable/user_guide/indexing.html#returning-a-view-versus-a-copy\n",
      "  \n",
      "/Users/jasonyeoh/opt/anaconda3/lib/python3.7/site-packages/ipykernel_launcher.py:3: SettingWithCopyWarning: \n",
      "A value is trying to be set on a copy of a slice from a DataFrame.\n",
      "Try using .loc[row_indexer,col_indexer] = value instead\n",
      "\n",
      "See the caveats in the documentation: http://pandas.pydata.org/pandas-docs/stable/user_guide/indexing.html#returning-a-view-versus-a-copy\n",
      "  This is separate from the ipykernel package so we can avoid doing imports until\n"
     ]
    },
    {
     "data": {
      "text/html": [
       "<div>\n",
       "<style scoped>\n",
       "    .dataframe tbody tr th:only-of-type {\n",
       "        vertical-align: middle;\n",
       "    }\n",
       "\n",
       "    .dataframe tbody tr th {\n",
       "        vertical-align: top;\n",
       "    }\n",
       "\n",
       "    .dataframe thead th {\n",
       "        text-align: right;\n",
       "    }\n",
       "</style>\n",
       "<table border=\"1\" class=\"dataframe\">\n",
       "  <thead>\n",
       "    <tr style=\"text-align: right;\">\n",
       "      <th></th>\n",
       "      <th>Country</th>\n",
       "      <th>Code</th>\n",
       "      <th>Year</th>\n",
       "      <th>PovertyGap</th>\n",
       "      <th>PercentHealthExpenditure</th>\n",
       "      <th>MalnutritionDeaths</th>\n",
       "      <th>InfantMortalityRate</th>\n",
       "      <th>GDPPerCapita</th>\n",
       "      <th>HealthCarePerCapita</th>\n",
       "      <th>HomicideRate</th>\n",
       "      <th>Norm_HealthCarePerCapita</th>\n",
       "      <th>Norm_GDPPerCapita</th>\n",
       "    </tr>\n",
       "  </thead>\n",
       "  <tbody>\n",
       "    <tr>\n",
       "      <td>0</td>\n",
       "      <td>Afghanistan</td>\n",
       "      <td>AFG</td>\n",
       "      <td>2012.0</td>\n",
       "      <td>54602722.5</td>\n",
       "      <td>2.920566</td>\n",
       "      <td>3.390730</td>\n",
       "      <td>6.090</td>\n",
       "      <td>1839.273579</td>\n",
       "      <td>160.368027</td>\n",
       "      <td>11.445933</td>\n",
       "      <td>-0.700842</td>\n",
       "      <td>-0.789054</td>\n",
       "    </tr>\n",
       "    <tr>\n",
       "      <td>1</td>\n",
       "      <td>Albania</td>\n",
       "      <td>ALB</td>\n",
       "      <td>2012.0</td>\n",
       "      <td>4424530.0</td>\n",
       "      <td>2.735704</td>\n",
       "      <td>0.167334</td>\n",
       "      <td>0.950</td>\n",
       "      <td>10369.823380</td>\n",
       "      <td>544.006172</td>\n",
       "      <td>2.481095</td>\n",
       "      <td>-0.438097</td>\n",
       "      <td>-0.361277</td>\n",
       "    </tr>\n",
       "    <tr>\n",
       "      <td>2</td>\n",
       "      <td>Algeria</td>\n",
       "      <td>DZA</td>\n",
       "      <td>2012.0</td>\n",
       "      <td>54602722.5</td>\n",
       "      <td>4.520251</td>\n",
       "      <td>0.298914</td>\n",
       "      <td>2.240</td>\n",
       "      <td>13161.961670</td>\n",
       "      <td>821.338885</td>\n",
       "      <td>1.229986</td>\n",
       "      <td>-0.248159</td>\n",
       "      <td>-0.221261</td>\n",
       "    </tr>\n",
       "    <tr>\n",
       "      <td>3</td>\n",
       "      <td>American Samoa</td>\n",
       "      <td>ASM</td>\n",
       "      <td>2012.0</td>\n",
       "      <td>54602722.5</td>\n",
       "      <td>3.386343</td>\n",
       "      <td>5.616784</td>\n",
       "      <td>1.615</td>\n",
       "      <td>10943.919270</td>\n",
       "      <td>664.474754</td>\n",
       "      <td>5.083770</td>\n",
       "      <td>-0.355592</td>\n",
       "      <td>-0.332488</td>\n",
       "    </tr>\n",
       "    <tr>\n",
       "      <td>5</td>\n",
       "      <td>Andorra</td>\n",
       "      <td>AND</td>\n",
       "      <td>2012.0</td>\n",
       "      <td>54602722.5</td>\n",
       "      <td>5.747040</td>\n",
       "      <td>0.083869</td>\n",
       "      <td>0.370</td>\n",
       "      <td>10943.919270</td>\n",
       "      <td>3426.500209</td>\n",
       "      <td>0.755515</td>\n",
       "      <td>1.536050</td>\n",
       "      <td>-0.332488</td>\n",
       "    </tr>\n",
       "  </tbody>\n",
       "</table>\n",
       "</div>"
      ],
      "text/plain": [
       "          Country Code    Year  PovertyGap  PercentHealthExpenditure  \\\n",
       "0     Afghanistan  AFG  2012.0  54602722.5                  2.920566   \n",
       "1         Albania  ALB  2012.0   4424530.0                  2.735704   \n",
       "2         Algeria  DZA  2012.0  54602722.5                  4.520251   \n",
       "3  American Samoa  ASM  2012.0  54602722.5                  3.386343   \n",
       "5         Andorra  AND  2012.0  54602722.5                  5.747040   \n",
       "\n",
       "   MalnutritionDeaths  InfantMortalityRate  GDPPerCapita  HealthCarePerCapita  \\\n",
       "0            3.390730                6.090   1839.273579           160.368027   \n",
       "1            0.167334                0.950  10369.823380           544.006172   \n",
       "2            0.298914                2.240  13161.961670           821.338885   \n",
       "3            5.616784                1.615  10943.919270           664.474754   \n",
       "5            0.083869                0.370  10943.919270          3426.500209   \n",
       "\n",
       "   HomicideRate  Norm_HealthCarePerCapita  Norm_GDPPerCapita  \n",
       "0     11.445933                 -0.700842          -0.789054  \n",
       "1      2.481095                 -0.438097          -0.361277  \n",
       "2      1.229986                 -0.248159          -0.221261  \n",
       "3      5.083770                 -0.355592          -0.332488  \n",
       "5      0.755515                  1.536050          -0.332488  "
      ]
     },
     "execution_count": 9,
     "metadata": {},
     "output_type": "execute_result"
    }
   ],
   "source": [
    "# Notmalize per capita variables\n",
    "primary['Norm_HealthCarePerCapita'] = preprocessing.scale(primary[['HealthCarePerCapita']])\n",
    "primary['Norm_GDPPerCapita'] = preprocessing.scale(primary[['GDPPerCapita']])\n",
    "primary.head()"
   ]
  },
  {
   "cell_type": "markdown",
   "metadata": {},
   "source": [
    "### Graphs\n",
    "- Healthcare Per Capita v. GDP Per Capita"
   ]
  },
  {
   "cell_type": "code",
   "execution_count": 11,
   "metadata": {},
   "outputs": [
    {
     "data": {
      "text/plain": [
       "<matplotlib.axes._subplots.AxesSubplot at 0x1a17454590>"
      ]
     },
     "execution_count": 11,
     "metadata": {},
     "output_type": "execute_result"
    },
    {
     "data": {
      "image/png": "[encoded data removed]",
      "text/plain": [
       "<Figure size 432x288 with 1 Axes>"
      ]
     },
     "metadata": {
      "needs_background": "light"
     },
     "output_type": "display_data"
    }
   ],
   "source": [
    "sns.scatterplot(primary['Norm_HealthCarePerCapita'], primary['Norm_GDPPerCapita'], hue=primary['HomicideRate'])"
   ]
  },
  {
   "cell_type": "code",
   "execution_count": 26,
   "metadata": {},
   "outputs": [
    {
     "data": {
      "text/plain": [
       "<matplotlib.axes._subplots.AxesSubplot at 0x1a17c23710>"
      ]
     },
     "execution_count": 26,
     "metadata": {},
     "output_type": "execute_result"
    },
    {
     "data": {
      "image/png": "[encoded data removed]",
      "text/plain": [
       "<Figure size 432x288 with 1 Axes>"
      ]
     },
     "metadata": {
      "needs_background": "light"
     },
     "output_type": "display_data"
    }
   ],
   "source": [
    "sns.distplot(primary['PercentHealthExpenditure'])"
   ]
  },
  {
   "cell_type": "code",
   "execution_count": 27,
   "metadata": {},
   "outputs": [
    {
     "data": {
      "text/plain": [
       "<matplotlib.axes._subplots.AxesSubplot at 0x1a17c01e90>"
      ]
     },
     "execution_count": 27,
     "metadata": {},
     "output_type": "execute_result"
    },
    {
     "data": {
      "image/png": "[encoded data removed]",
      "text/plain": [
       "<Figure size 432x288 with 1 Axes>"
      ]
     },
     "metadata": {
      "needs_background": "light"
     },
     "output_type": "display_data"
    }
   ],
   "source": [
    "sns.distplot(primary['HomicideRate'])"
   ]
  },
  {
   "cell_type": "code",
   "execution_count": 28,
   "metadata": {},
   "outputs": [
    {
     "data": {
      "text/plain": [
       "<matplotlib.axes._subplots.AxesSubplot at 0x1a17e8f890>"
      ]
     },
     "execution_count": 28,
     "metadata": {},
     "output_type": "execute_result"
    },
    {
     "data": {
      "image/png": "[encoded data removed]",
      "text/plain": [
       "<Figure size 792x648 with 2 Axes>"
      ]
     },
     "metadata": {
      "needs_background": "light"
     },
     "output_type": "display_data"
    }
   ],
   "source": [
    "corr = primary.corr()\n",
    "\n",
    "# Generate a mask for the upper triangle\n",
    "mask = np.triu(np.ones_like(corr, dtype=np.bool))\n",
    "\n",
    "# Set up the matplotlib figure\n",
    "f, ax = plt.subplots(figsize=(11, 9))\n",
    "\n",
    "# Generate a custom diverging colormap\n",
    "cmap = sns.diverging_palette(220, 10, as_cmap=True)\n",
    "\n",
    "# Draw the heatmap with the mask and correct aspect ratio\n",
    "sns.heatmap(corr, mask=mask, cmap=cmap, vmax=.3, center=0,\n",
    "            square=True, linewidths=.5, cbar_kws={\"shrink\": .5})"
   ]
  },
  {
   "cell_type": "code",
   "execution_count": 29,
   "metadata": {},
   "outputs": [
    {
     "data": {
      "text/plain": [
       "Year                             NaN\n",
       "PovertyGap                 -0.029908\n",
       "PercentHealthExpenditure   -0.048118\n",
       "MalnutritionDeaths          0.047326\n",
       "InfantMortalityRate         0.059758\n",
       "GDPPerCapita               -0.174352\n",
       "HealthCarePerCapita        -0.179712\n",
       "HomicideRate                1.000000\n",
       "Norm_HealthCarePerCapita   -0.179712\n",
       "Norm_GDPPerCapita          -0.174352\n",
       "Name: HomicideRate, dtype: float64"
      ]
     },
     "execution_count": 29,
     "metadata": {},
     "output_type": "execute_result"
    }
   ],
   "source": [
    "corr['HomicideRate']"
   ]
  },
  {
   "cell_type": "code",
   "execution_count": 30,
   "metadata": {},
   "outputs": [],
   "source": [
    "# women['Year'] = women['Year'].apply(lambda x: int(float(x)))\n",
    "# women = women[women['Year'] == 2012]"
   ]
  },
  {
   "cell_type": "code",
   "execution_count": 31,
   "metadata": {},
   "outputs": [],
   "source": [
    "# women_primary = pd.concat([primary, women], axis=1, keys='Code')\n",
    "# women_primary.columns = women_primary.columns.get_level_values(0)\n",
    "# women_primary.dropna()"
   ]
  },
  {
   "cell_type": "code",
   "execution_count": 32,
   "metadata": {},
   "outputs": [],
   "source": [
    "# sns.barplot(women_primary['MOBILITY'], women_primary['HomicideRate'])\n",
    "# women"
   ]
  },
  {
   "cell_type": "code",
   "execution_count": 33,
   "metadata": {},
   "outputs": [],
   "source": [
    "# primary['Year'] = primary['Year'].apply(lambda x: int(x))"
   ]
  }
 ],
 "metadata": {
  "kernelspec": {
   "display_name": "Python 3",
   "language": "python",
   "name": "python3"
  },
  "language_info": {
   "codemirror_mode": {
    "name": "ipython",
    "version": 3
   },
   "file_extension": ".py",
   "mimetype": "text/x-python",
   "name": "python",
   "nbconvert_exporter": "python",
   "pygments_lexer": "ipython3",
   "version": "3.7.4"
  }
 },
 "nbformat": 4,
 "nbformat_minor": 2
}
